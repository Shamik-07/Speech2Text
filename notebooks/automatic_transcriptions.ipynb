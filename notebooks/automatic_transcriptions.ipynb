{
 "cells": [
  {
   "cell_type": "markdown",
   "metadata": {},
   "source": [
    "# Automatic Transcription by Wav2Vec2, HuBERT, & Speech2Text"
   ]
  },
  {
   "cell_type": "code",
   "execution_count": null,
   "metadata": {},
   "outputs": [],
   "source": [
    "import librosa\n",
    "import torch\n",
    "from transformers import Wav2Vec2Processor, Wav2Vec2ForCTC, HubertForCTC, Speech2TextProcessor, Speech2TextForConditionalGeneration"
   ]
  },
  {
   "cell_type": "markdown",
   "metadata": {},
   "source": [
    "The `Wav2Vec2Processor` can be used for tokenization as well as feature extraction depending on the `__call__`. More info [here](https://huggingface.co/transformers/model_doc/wav2vec2.html#transformers.Wav2Vec2Processor.__call__)"
   ]
  },
  {
   "cell_type": "code",
   "execution_count": null,
   "metadata": {},
   "outputs": [],
   "source": [
    "# load the models and their processor\n",
    "processor_wav = Wav2Vec2Processor.from_pretrained(\"facebook/wav2vec2-large-robust-ft-libri-960h\")\n",
    "model_wav = Wav2Vec2ForCTC.from_pretrained(\"facebook/wav2vec2-large-robust-ft-libri-960h\")\n",
    "processor_hub = Wav2Vec2Processor.from_pretrained(\"facebook/hubert-large-ls960-ft\")\n",
    "model_hub = HubertForCTC.from_pretrained(\"facebook/hubert-large-ls960-ft\")\n",
    "model_s2t = Speech2TextForConditionalGeneration.from_pretrained(\"facebook/s2t-large-librispeech-asr\")\n",
    "processor_s2t = Speech2TextProcessor.from_pretrained(\"facebook/s2t-large-librispeech-asr\")"
   ]
  },
  {
   "cell_type": "code",
   "execution_count": null,
   "metadata": {},
   "outputs": [],
   "source": [
    "# define speech-to-text function for wav2vec2 \n",
    "def wav_asr_transcript(audio_file):\n",
    "    transcript = \"\"\n",
    "\n",
    "    # Stream over 20 seconds chunks\n",
    "    stream = librosa.stream(\n",
    "        audio_file, block_length=20, frame_length=16000, hop_length=16000\n",
    "    )\n",
    "\n",
    "    for speech in stream:\n",
    "        if len(speech.shape) > 1:\n",
    "            speech = speech[:, 0] + speech[:, 1]\n",
    "\n",
    "        input_values = processor_wav(speech, sampling_rate=16_000, return_tensors=\"pt\").input_values\n",
    "        with torch.no_grad():\n",
    "            logits = model_wav(input_values).logits\n",
    "            predicted_ids = torch.argmax(logits, dim=-1)\n",
    "        transcription = processor_wav.batch_decode(predicted_ids)[0]\n",
    "        transcript += transcription.lower() + \". \"\n",
    "\n",
    "    return transcript\n"
   ]
  },
  {
   "cell_type": "code",
   "execution_count": null,
   "metadata": {},
   "outputs": [],
   "source": [
    "# define speech-to-text function for Hubert \n",
    "def hub_asr_transcript(audio_file):\n",
    "    transcript = \"\"\n",
    "\n",
    "    # Stream over 20 seconds chunks\n",
    "    stream = librosa.stream(\n",
    "        audio_file, block_length=20, frame_length=16000, hop_length=16000\n",
    "    )\n",
    "\n",
    "    for speech in stream:\n",
    "        if len(speech.shape) > 1:\n",
    "            speech = speech[:, 0] + speech[:, 1]\n",
    "\n",
    "        input_values = processor_hub(speech, sampling_rate=16_000, return_tensors=\"pt\").input_values\n",
    "        with torch.no_grad():\n",
    "            logits = model_hub(input_values).logits\n",
    "            predicted_ids = torch.argmax(logits, dim=-1)\n",
    "        transcription = processor_hub.batch_decode(predicted_ids)[0]\n",
    "        transcript += transcription.lower() + \". \"\n",
    "\n",
    "    return transcript\n"
   ]
  },
  {
   "cell_type": "code",
   "execution_count": null,
   "metadata": {},
   "outputs": [],
   "source": [
    "# define speech-to-text function for Speech2Text\n",
    "def s2t_asr_transcript(audio_file):\n",
    "    transcript = \"\"\n",
    "\n",
    "    # Stream over 20 seconds chunks\n",
    "    stream = librosa.stream(\n",
    "        audio_file, block_length=20, frame_length=16000, hop_length=16000\n",
    "    )\n",
    "\n",
    "    for speech in stream:\n",
    "        if len(speech.shape) > 1:\n",
    "            speech = speech[:, 0] + speech[:, 1]\n",
    "\n",
    "        inputs = processor_s2t(speech, sampling_rate=16_000, return_tensors=\"pt\")\n",
    "        generated_ids = model_s2t.generate(input_ids=inputs[\"input_features\"], attention_mask=inputs[\"attention_mask\"])\n",
    "        transcription = processor_s2t.batch_decode(generated_ids)[0]\n",
    "        transcript += transcription + \". \"\n",
    "\n",
    "    return transcript"
   ]
  },
  {
   "cell_type": "markdown",
   "metadata": {},
   "source": [
    "## Transcribing Entire Earnings Call"
   ]
  },
  {
   "cell_type": "code",
   "execution_count": null,
   "metadata": {},
   "outputs": [],
   "source": [
    "wav2vec2_full_tr = wav_asr_transcript(r\"../../../speech2text/apple/Audio/2021-Oct-29-AAPL.OQ-139435924054.flac\")\n",
    "hubert_full_tr = hub_asr_transcript(r\"../../../speech2text/apple/Audio/2021-Oct-29-AAPL.OQ-139435924054.flac\")\n",
    "s2t_full_tr = s2t_asr_transcript(r\"../../../speech2text/apple/Audio/2021-Oct-29-AAPL.OQ-139435924054.flac\")"
   ]
  },
  {
   "cell_type": "code",
   "execution_count": null,
   "metadata": {},
   "outputs": [],
   "source": [
    "with open(\"../../../speech2text/apple/wav2vec2_2021-Oct-29-AAPL.OQ-139435924054.txt\",'wt') as file:\n",
    "    file.write(wav2vec2_full_tr)"
   ]
  }
 ],
 "metadata": {
  "interpreter": {
   "hash": "daf794f29889c33caa74ddcff707bd191bbe97552093a5e0faa65345bc90e393"
  },
  "kernelspec": {
   "display_name": "Python 3.7.11 64-bit ('test': conda)",
   "language": "python",
   "name": "python3"
  },
  "language_info": {
   "name": "python",
   "version": "3.7.11"
  },
  "orig_nbformat": 4
 },
 "nbformat": 4,
 "nbformat_minor": 2
}
