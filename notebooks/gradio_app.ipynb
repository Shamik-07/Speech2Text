{
 "cells": [
  {
   "cell_type": "markdown",
   "metadata": {},
   "source": [
    "# Wav2Vec2 Automatic Transcription"
   ]
  },
  {
   "cell_type": "code",
   "execution_count": null,
   "metadata": {},
   "outputs": [],
   "source": [
    "import gradio as gr\n",
    "import librosa\n",
    "import torch\n",
    "from transformers import Wav2Vec2Processor, Wav2Vec2ForCTC"
   ]
  },
  {
   "cell_type": "markdown",
   "metadata": {},
   "source": [
    "The `Wav2Vec2Processor` can be used for tokenization as well as feature extraction depending on the `__call__`. More info [here](https://huggingface.co/transformers/model_doc/wav2vec2.html#transformers.Wav2Vec2Processor.__call__)"
   ]
  },
  {
   "cell_type": "code",
   "execution_count": null,
   "metadata": {},
   "outputs": [],
   "source": [
    "# load the models and their processor\n",
    "processor = Wav2Vec2Processor.from_pretrained(\"facebook/wav2vec2-large-robust-ft-libri-960h\")\n",
    "model = Wav2Vec2ForCTC.from_pretrained(\"facebook/wav2vec2-large-robust-ft-libri-960h\")"
   ]
  },
  {
   "cell_type": "code",
   "execution_count": null,
   "metadata": {},
   "outputs": [],
   "source": [
    "# define speech-to-text function for wav2vec2 \n",
    "def asr_transcript(audio_file):\n",
    "    transcript = \"\"\n",
    "\n",
    "    # Stream over 20 seconds chunks\n",
    "    stream = librosa.stream(\n",
    "        audio_file, block_length=20, frame_length=16000, hop_length=16000\n",
    "    )\n",
    "\n",
    "    for speech in stream:\n",
    "        if len(speech.shape) > 1:\n",
    "            speech = speech[:, 0] + speech[:, 1]\n",
    "\n",
    "        input_values = processor(speech, sampling_rate=16_000, return_tensors=\"pt\").input_values\n",
    "        with torch.no_grad():\n",
    "            logits = model(input_values).logits\n",
    "            predicted_ids = torch.argmax(logits, dim=-1)\n",
    "        transcription = processor.batch_decode(predicted_ids)[0]\n",
    "        transcript += transcription.lower() + \". \"\n",
    "\n",
    "    return transcript\n"
   ]
  },
  {
   "cell_type": "code",
   "execution_count": null,
   "metadata": {},
   "outputs": [],
   "source": [
    "gradio_ui = gr.Interface(\n",
    "    fn=asr_transcript,\n",
    "    title=\"Automatic Transcription with Wav2Vec2\",\n",
    "    description=\"Upload a flac/wav audio with a sampling rate of 16kHz\",\n",
    "    inputs=gr.inputs.Audio(label=\"Upload Audio File\", type=\"filepath\"),\n",
    "    outputs=gr.outputs.Textbox(label=\"Automatically Transcribed by facebook/wav2vec2-large-robust-ft-libri-960h\")\n",
    ")\n",
    "gradio_ui.launch()"
   ]
  },
  {
   "cell_type": "code",
   "execution_count": null,
   "metadata": {},
   "outputs": [],
   "source": []
  }
 ],
 "metadata": {
  "interpreter": {
   "hash": "daf794f29889c33caa74ddcff707bd191bbe97552093a5e0faa65345bc90e393"
  },
  "kernelspec": {
   "display_name": "Python 3.7.11 64-bit ('test': conda)",
   "language": "python",
   "name": "python3"
  },
  "language_info": {
   "codemirror_mode": {
    "name": "ipython",
    "version": 3
   },
   "file_extension": ".py",
   "mimetype": "text/x-python",
   "name": "python",
   "nbconvert_exporter": "python",
   "pygments_lexer": "ipython3",
   "version": "3.7.11"
  },
  "orig_nbformat": 4
 },
 "nbformat": 4,
 "nbformat_minor": 2
}
