{
 "cells": [
  {
   "cell_type": "markdown",
   "metadata": {},
   "source": [
    "## WER"
   ]
  },
  {
   "cell_type": "markdown",
   "metadata": {},
   "source": [
    "**WER Formula**\n",
    "\n",
    "float(S+D+I)/float(H+S+D)"
   ]
  },
  {
   "cell_type": "code",
   "execution_count": 1,
   "metadata": {},
   "outputs": [],
   "source": [
    "import jiwer\n",
    "import numpy as np"
   ]
  },
  {
   "cell_type": "code",
   "execution_count": 2,
   "metadata": {},
   "outputs": [],
   "source": [
    "transformation = jiwer.Compose([\n",
    "    jiwer.ToLowerCase(),\n",
    "    jiwer.RemoveWhiteSpace(replace_by_space=True),\n",
    "    jiwer.Strip(),\n",
    "    jiwer.ExpandCommonEnglishContractions(),\n",
    "    jiwer.RemoveEmptyStrings(),\n",
    "    jiwer.RemovePunctuation(),\n",
    "    jiwer.RemoveMultipleSpaces(),\n",
    "    jiwer.ReduceToListOfListOfWords(word_delimiter= ' '),\n",
    "])"
   ]
  },
  {
   "cell_type": "code",
   "execution_count": 3,
   "metadata": {},
   "outputs": [],
   "source": [
    "gt_ex = \"Hi, I am at the Upsilon gas station on twenty seventh and Pratt Avenue and my credit card has been declined three times. I know I have room on the card because I paid it off last week.\"\n",
    "ht_ex = \"Hi I am at the up silent gas station on twenty seventh and brat avenue and my credit card has been designed three times I know have room on the cart because I paid off last week\""
   ]
  },
  {
   "cell_type": "code",
   "execution_count": 4,
   "metadata": {},
   "outputs": [
    {
     "data": {
      "text/plain": [
       "(array(['hi i am at the upsilon gas station on twenty seventh and pratt avenue and my credit card has been declined three times i know i have room on the card because i paid it off last week'],\n",
       "       dtype='<U181'),\n",
       " array(['hi i am at the up silent gas station on twenty seventh and brat avenue and my credit card has been designed three times i know have room on the cart because i paid off last week'],\n",
       "       dtype='<U177'))"
      ]
     },
     "execution_count": 4,
     "metadata": {},
     "output_type": "execute_result"
    }
   ],
   "source": [
    "np.array([' '.join(i) for i in transformation(gt_ex)]), np.array([' '.join(i) for i in transformation(ht_ex)])"
   ]
  },
  {
   "cell_type": "code",
   "execution_count": 5,
   "metadata": {},
   "outputs": [
    {
     "data": {
      "text/plain": [
       "{'wer': 0.18421052631578946,\n",
       " 'mer': 0.1794871794871795,\n",
       " 'wil': 0.27169274537695587,\n",
       " 'wip': 0.7283072546230441,\n",
       " 'hits': 32,\n",
       " 'substitutions': 4,\n",
       " 'deletions': 2,\n",
       " 'insertions': 1}"
      ]
     },
     "execution_count": 5,
     "metadata": {},
     "output_type": "execute_result"
    }
   ],
   "source": [
    "jiwer.compute_measures(truth=gt_ex,hypothesis=ht_ex,truth_transform=transformation,hypothesis_transform=transformation)"
   ]
  },
  {
   "cell_type": "code",
   "execution_count": 6,
   "metadata": {},
   "outputs": [
    {
     "data": {
      "text/plain": [
       "18.42"
      ]
     },
     "execution_count": 6,
     "metadata": {},
     "output_type": "execute_result"
    }
   ],
   "source": [
    "round(jiwer.wer(truth=gt_ex,hypothesis=ht_ex,truth_transform=transformation,hypothesis_transform=transformation)*100,ndigits=2)"
   ]
  }
 ],
 "metadata": {
  "interpreter": {
   "hash": "daf794f29889c33caa74ddcff707bd191bbe97552093a5e0faa65345bc90e393"
  },
  "kernelspec": {
   "display_name": "Python 3.7.11 64-bit ('test': conda)",
   "language": "python",
   "name": "python3"
  },
  "language_info": {
   "codemirror_mode": {
    "name": "ipython",
    "version": 3
   },
   "file_extension": ".py",
   "mimetype": "text/x-python",
   "name": "python",
   "nbconvert_exporter": "python",
   "pygments_lexer": "ipython3",
   "version": "3.7.11"
  },
  "orig_nbformat": 4
 },
 "nbformat": 4,
 "nbformat_minor": 2
}
