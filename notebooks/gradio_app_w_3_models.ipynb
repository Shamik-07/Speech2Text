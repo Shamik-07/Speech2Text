{
 "cells": [
  {
   "cell_type": "markdown",
   "metadata": {},
   "source": [
    "# Automatic Transcription by Wav2Vec2, HuBERT, & Speech2Text"
   ]
  },
  {
   "cell_type": "code",
   "execution_count": null,
   "metadata": {},
   "outputs": [],
   "source": [
    "import gradio as gr\n",
    "import librosa\n",
    "import torch\n",
    "from gradio.mix import Parallel\n",
    "from transformers import Wav2Vec2Processor, Wav2Vec2ForCTC, HubertForCTC, Speech2TextProcessor, Speech2TextForConditionalGeneration"
   ]
  },
  {
   "cell_type": "markdown",
   "metadata": {},
   "source": [
    "The `Wav2Vec2Processor` can be used for tokenization as well as feature extraction depending on the `__call__`. More info [here](https://huggingface.co/transformers/model_doc/wav2vec2.html#transformers.Wav2Vec2Processor.__call__)"
   ]
  },
  {
   "cell_type": "code",
   "execution_count": 2,
   "metadata": {},
   "outputs": [],
   "source": [
    "# load the models and their processor\n",
    "processor_wav = Wav2Vec2Processor.from_pretrained(\"facebook/wav2vec2-large-robust-ft-libri-960h\")\n",
    "model_wav = Wav2Vec2ForCTC.from_pretrained(\"facebook/wav2vec2-large-robust-ft-libri-960h\")\n",
    "processor_hub = Wav2Vec2Processor.from_pretrained(\"facebook/hubert-large-ls960-ft\")\n",
    "model_hub = HubertForCTC.from_pretrained(\"facebook/hubert-large-ls960-ft\")\n",
    "model_s2t = Speech2TextForConditionalGeneration.from_pretrained(\"facebook/s2t-large-librispeech-asr\")\n",
    "processor_s2t = Speech2TextProcessor.from_pretrained(\"facebook/s2t-large-librispeech-asr\")"
   ]
  },
  {
   "cell_type": "code",
   "execution_count": 3,
   "metadata": {},
   "outputs": [],
   "source": [
    "# define speech-to-text function for wav2vec2 \n",
    "def wav_asr_transcript(audio_file):\n",
    "    transcript = \"\"\n",
    "\n",
    "    # Stream over 20 seconds chunks\n",
    "    stream = librosa.stream(\n",
    "        audio_file, block_length=20, frame_length=16000, hop_length=16000\n",
    "    )\n",
    "\n",
    "    for speech in stream:\n",
    "        if len(speech.shape) > 1:\n",
    "            speech = speech[:, 0] + speech[:, 1]\n",
    "\n",
    "        input_values = processor_wav(speech, sampling_rate=16_000, return_tensors=\"pt\").input_values\n",
    "        with torch.no_grad():\n",
    "            logits = model_wav(input_values).logits\n",
    "            predicted_ids = torch.argmax(logits, dim=-1)\n",
    "        transcription = processor_wav.batch_decode(predicted_ids)[0]\n",
    "        transcript += transcription.lower() + \". \"\n",
    "\n",
    "    return transcript\n"
   ]
  },
  {
   "cell_type": "code",
   "execution_count": 4,
   "metadata": {},
   "outputs": [],
   "source": [
    "# define speech-to-text function for Hubert \n",
    "def hub_asr_transcript(audio_file):\n",
    "    transcript = \"\"\n",
    "\n",
    "    # Stream over 20 seconds chunks\n",
    "    stream = librosa.stream(\n",
    "        audio_file, block_length=20, frame_length=16000, hop_length=16000\n",
    "    )\n",
    "\n",
    "    for speech in stream:\n",
    "        if len(speech.shape) > 1:\n",
    "            speech = speech[:, 0] + speech[:, 1]\n",
    "\n",
    "        input_values = processor_hub(speech, sampling_rate=16_000, return_tensors=\"pt\").input_values\n",
    "        with torch.no_grad():\n",
    "            logits = model_hub(input_values).logits\n",
    "            predicted_ids = torch.argmax(logits, dim=-1)\n",
    "        transcription = processor_hub.batch_decode(predicted_ids)[0]\n",
    "        transcript += transcription.lower() + \". \"\n",
    "\n",
    "    return transcript\n"
   ]
  },
  {
   "cell_type": "code",
   "execution_count": 5,
   "metadata": {},
   "outputs": [],
   "source": [
    "# define speech-to-text function for Speech2Text\n",
    "def s2t_asr_transcript(audio_file):\n",
    "    transcript = \"\"\n",
    "\n",
    "    # Stream over 20 seconds chunks\n",
    "    stream = librosa.stream(\n",
    "        audio_file, block_length=20, frame_length=16000, hop_length=16000\n",
    "    )\n",
    "\n",
    "    for speech in stream:\n",
    "        if len(speech.shape) > 1:\n",
    "            speech = speech[:, 0] + speech[:, 1]\n",
    "\n",
    "        inputs = processor_s2t(speech, sampling_rate=16_000, return_tensors=\"pt\")\n",
    "        generated_ids = model_s2t.generate(input_ids=inputs[\"input_features\"], attention_mask=inputs[\"attention_mask\"])\n",
    "        transcription = processor_s2t.batch_decode(generated_ids)[0]\n",
    "        transcript += transcription + \". \"\n",
    "\n",
    "    return transcript"
   ]
  },
  {
   "cell_type": "code",
   "execution_count": 6,
   "metadata": {},
   "outputs": [],
   "source": [
    "wav_summ = gr.Interface(\n",
    "    fn=wav_asr_transcript,\n",
    "    inputs=gr.inputs.Textbox(),\n",
    "    outputs=gr.outputs.Textbox(label=\"Transcribed by facebook/wav2vec2-large-robust-ft-libri-960h\"),\n",
    ")\n",
    "hub_summ = gr.Interface(\n",
    "    fn=hub_asr_transcript,\n",
    "    inputs=gr.inputs.Textbox(),\n",
    "    outputs=gr.outputs.Textbox(label=\"Transcribed by facebook/hubert-large-ls960-ft\"),\n",
    ")\n",
    "s2t_summ = gr.Interface(\n",
    "    fn=s2t_asr_transcript,\n",
    "    inputs=gr.inputs.Textbox(),\n",
    "    outputs=gr.outputs.Textbox(label=\"Transcribed by facebook/s2t-large-librispeech-asr\"),\n",
    ")"
   ]
  },
  {
   "cell_type": "code",
   "execution_count": null,
   "metadata": {},
   "outputs": [],
   "source": [
    "Parallel(\n",
    "    wav_summ,\n",
    "    hub_summ,\n",
    "    s2t_summ,\n",
    "    title=\"Automatic Transcription by Wav2Vec2, HuBERT & Speech2Text\",\n",
    "    inputs=gr.inputs.Audio(label=\"Upload Audio File\", type=\"filepath\"),\n",
    ").launch()\n"
   ]
  }
 ],
 "metadata": {
  "interpreter": {
   "hash": "daf794f29889c33caa74ddcff707bd191bbe97552093a5e0faa65345bc90e393"
  },
  "kernelspec": {
   "display_name": "Python 3.7.11 64-bit ('test': conda)",
   "language": "python",
   "name": "python3"
  },
  "language_info": {
   "codemirror_mode": {
    "name": "ipython",
    "version": 3
   },
   "file_extension": ".py",
   "mimetype": "text/x-python",
   "name": "python",
   "nbconvert_exporter": "python",
   "pygments_lexer": "ipython3",
   "version": "3.7.11"
  },
  "orig_nbformat": 4
 },
 "nbformat": 4,
 "nbformat_minor": 2
}
